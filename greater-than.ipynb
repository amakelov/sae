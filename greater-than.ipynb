{
 "cells": [
  {
   "cell_type": "code",
   "execution_count": 1,
   "metadata": {},
   "outputs": [],
   "source": [
    "from ioi_utils import Node, get_model\n",
    "from mandala._next.imports import *\n",
    "from mandala._next.common_imports import *\n",
    "from greater_than_utils import *\n",
    "from tqdm import tqdm\n",
    "\n",
    "MODEL_ID = 'gpt2-small'\n",
    "if 'model' in locals():\n",
    "    MODELS[MODEL_ID] = model"
   ]
  },
  {
   "cell_type": "markdown",
   "metadata": {},
   "source": [
    "# A proof-of-concept evaluation for the greater-than circuit"
   ]
  },
  {
   "cell_type": "code",
   "execution_count": 2,
   "metadata": {},
   "outputs": [],
   "source": [
    "DB_PATH = '/media/amakelov/SanDisk1TB/paper_sprint/greater_than.db'\n",
    "storage = Storage(db_path=DB_PATH)"
   ]
  },
  {
   "cell_type": "code",
   "execution_count": 3,
   "metadata": {},
   "outputs": [
    {
     "name": "stderr",
     "output_type": "stream",
     "text": [
      "/home/amakelov/workspace/current/conda_envs/serimats/lib/python3.10/site-packages/huggingface_hub/file_download.py:1132: FutureWarning: `resume_download` is deprecated and will be removed in version 1.0.0. Downloads always resume when possible. If you want to force a new download, use `force_download=True`.\n",
      "  warnings.warn(\n"
     ]
    },
    {
     "name": "stdout",
     "output_type": "stream",
     "text": [
      "Loaded pretrained model gpt2-small into HookedTransformer\n"
     ]
    }
   ],
   "source": [
    "model = get_model()\n",
    "MODELS[MODEL_ID] = model"
   ]
  },
  {
   "cell_type": "markdown",
   "metadata": {},
   "source": [
    "# Prepare data"
   ]
  },
  {
   "cell_type": "code",
   "execution_count": 4,
   "metadata": {},
   "outputs": [
    {
     "name": "stderr",
     "output_type": "stream",
     "text": [
      "100%|██████████| 1/1 [00:00<00:00, 58.66it/s]\n"
     ]
    }
   ],
   "source": [
    "with storage:\n",
    "    P_train = generate_prompts(n_prompts=10_000, distribution=FULL_DISTRIBUTION, random_seed=0)\n",
    "    As_train = run_with_cache(\n",
    "        prompts=P_train,\n",
    "        nodes=NODES,\n",
    "        batch_size=200,\n",
    "    )\n",
    "    A_TRAIN_DICT = {node: A for node, A in zip(NODES, As_train)}\n",
    "\n",
    "    N_YYS = len(YYS)\n",
    "    editing_base_distribution = copy.deepcopy(FULL_DISTRIBUTION)\n",
    "    editing_base_distribution.yys = editing_base_distribution.yys[:N_YYS // 2]\n",
    "    editing_source_distribution = copy.deepcopy(FULL_DISTRIBUTION)\n",
    "    editing_source_distribution.names = editing_source_distribution.yys[N_YYS // 2:]\n",
    "\n",
    "    P_eval = generate_prompts(n_prompts=5_000, distribution=editing_base_distribution, random_seed=1)\n",
    "    As_eval = run_with_cache(\n",
    "        prompts=P_eval, \n",
    "        nodes=NODES,\n",
    "        batch_size=200,\n",
    "    )\n",
    "    A_EVAL_DICT = {node: A for node, A in zip(NODES, As_eval)}\n",
    "    P_eval_feature_idxs = get_prompt_feature_idxs(\n",
    "        prompts=P_eval,\n",
    "        features=[('yy',)],\n",
    "    )\n",
    "\n",
    "    N_EVAL = len(storage.unwrap(P_eval))\n",
    "    N_YYS_EVAL_SOURCE = len(editing_source_distribution.yys)\n",
    "\n",
    "    ############################################################################ \n",
    "    ### Compute counterfactual prompts and activations\n",
    "    ############################################################################ \n",
    "    ATTRIBUTES = [('yy',), ] # ('s', 'io_pos',), ('io', 'io_pos'), ('s', 'io',), ('io_pos', 's', 'io',), ]\n",
    "\n",
    "    CF_PROMPTS_DICT = {}\n",
    "    for attribute in ATTRIBUTES:\n",
    "        CF_PROMPTS_DICT[attribute] = get_cf_prompts(\n",
    "            prompts=P_eval, \n",
    "            features=attribute,\n",
    "            yy_targets=generate_yy_samples(n_samples=N_EVAL, yys=editing_source_distribution.yys),\n",
    "        )\n",
    "    ### Compute counterfactual activations\n",
    "    A_EVAL_CF_DICT = {}\n",
    "    for attribute, cf_prompts in tqdm(CF_PROMPTS_DICT.items()):\n",
    "        A_EVAL_CF_DICT[attribute] = run_with_cache(\n",
    "            prompts=cf_prompts, \n",
    "            nodes=NODES,\n",
    "            batch_size=100,\n",
    "            model_id=MODEL_ID,\n",
    "            verbose=True,\n",
    "        )\n",
    "    for attribute in A_EVAL_CF_DICT:\n",
    "        A_EVAL_CF_DICT[attribute] = {node: A_EVAL_CF_DICT[attribute][i] for i, node in enumerate(NODES)}\n",
    "    \n",
    "    P_eval_cf_feature_idxs = {}\n",
    "    for attribute, cf_prompts in CF_PROMPTS_DICT.items():\n",
    "        P_eval_cf_feature_idxs[attribute] = get_prompt_feature_idxs(\n",
    "            prompts=cf_prompts,\n",
    "            features=[attribute],\n",
    "        )"
   ]
  },
  {
   "cell_type": "markdown",
   "metadata": {},
   "source": [
    "# Compute supervised features"
   ]
  },
  {
   "cell_type": "code",
   "execution_count": null,
   "metadata": {},
   "outputs": [],
   "source": [
    "FEATURE_CONFIGURATIONS"
   ]
  },
  {
   "cell_type": "code",
   "execution_count": null,
   "metadata": {},
   "outputs": [],
   "source": [
    "with storage:\n",
    "    SUPERVISED_FEATURES_DICT = {}\n",
    "    SUPERVISED_RECONSTRUCTIONS_DICT = {}\n",
    "    for node, A in tqdm(A_TRAIN_DICT.items()):\n",
    "        node_parametrization = 'independent'\n",
    "        node_features = FEATURE_CONFIGURATIONS[node_parametrization]\n",
    "        code_getter = get_mean_codes\n",
    "        codes, reconstructions = code_getter(\n",
    "            features=node_features,\n",
    "            A=A,\n",
    "            prompts=P_train,\n",
    "        )\n",
    "        SUPERVISED_FEATURES_DICT[node] = codes\n",
    "        SUPERVISED_RECONSTRUCTIONS_DICT[node] = reconstructions"
   ]
  },
  {
   "cell_type": "markdown",
   "metadata": {},
   "source": [
    "# Train vanilla SAEs"
   ]
  },
  {
   "cell_type": "code",
   "execution_count": 5,
   "metadata": {},
   "outputs": [],
   "source": [
    "### define a uniform schedule for all training runs\n",
    "\n",
    "# use exponentially spread-out checkpoints for the very early stages of training\n",
    "# measure right before resampling, as well as in the middle between resamplings\n",
    "# measure before and after the final LR decay\n",
    "# use two resampling stages, as it seems effects diminish after the first one\n",
    "CHECKPOINT_STEPS = [0, 1, 2, 4, 8, 16, 32, 64, 128, 500, 750, 1000, 1250, 1500, 2000]\n",
    "RESAMPLE_EPOCHS = [501, 1001, ]\n",
    "FINAL_DECAY_START = 1500 # decay the LR for the last 25% of training\n",
    "FINAL_DECAY_END = 2000"
   ]
  },
  {
   "cell_type": "code",
   "execution_count": 6,
   "metadata": {},
   "outputs": [],
   "source": [
    "SAES_DICT = {} # (variant, node, l1, start_epoch) -> encoder\n",
    "EDITED_INTERP_DICT = {} # (variant, node, l1, end_epoch, attribute, num_exchange) -> A_edited\n",
    "EDITED_AGNOSTIC_DICT = {} # (variant, node, l1, end_epoch, attribute, num_exchange) -> A_edited\n",
    "\n",
    "# collecting the weight removed\n",
    "WEIGHT_REMOVED_DICT = {} # (variant, node, l1, end_epoch, attribute, num_exchange, edit_type, ) -> weight_removed"
   ]
  },
  {
   "cell_type": "code",
   "execution_count": 7,
   "metadata": {},
   "outputs": [
    {
     "name": "stderr",
     "output_type": "stream",
     "text": [
      "100%|██████████| 7/7 [00:16<00:00,  2.38s/it]\n"
     ]
    }
   ],
   "source": [
    "from torch.optim import Adam\n",
    "\n",
    "collect_metrics = False\n",
    "\n",
    "with storage:\n",
    "    metrics_dfs = []\n",
    "    for node in tqdm(NODES):\n",
    "        A_train = A_TRAIN_DICT[node]\n",
    "        A_train_normalized, scale = normalize_activations(A=A_train)\n",
    "\n",
    "        A_eval = A_EVAL_DICT[node]\n",
    "        A_eval_normalized, _ = normalize_activations(A=A_eval, scale=scale)\n",
    "\n",
    "        for l1_coeff in (1.0, DefaultConfig.L1_COEFF):\n",
    "            for lr in (DefaultConfig.LR, ):\n",
    "                for batch_size in (512, ):\n",
    "                    for dict_mult in (8, ):\n",
    "                        encoder_state_dict = None\n",
    "                        optimizer_state_dict = None\n",
    "                        scheduler_state_dict = None\n",
    "                        metrics_list = []\n",
    "                        d_hidden = dict_mult * 64\n",
    "                        pbar = tqdm(list(zip(CHECKPOINT_STEPS, CHECKPOINT_STEPS[1:])), disable=True)\n",
    "                        for start_epoch, end_epoch in pbar:\n",
    "                            encoder_state_dict, optimizer_state_dict, scheduler_state_dict, metrics = train_vanilla(\n",
    "                                A=A_train_normalized,\n",
    "                                start_epoch=start_epoch,\n",
    "                                d_hidden=d_hidden,\n",
    "                                end_epoch=end_epoch,\n",
    "                                batch_size=batch_size,\n",
    "                                encoder_state_dict=encoder_state_dict,\n",
    "                                optimizer_state_dict=optimizer_state_dict,\n",
    "                                scheduler_state_dict=scheduler_state_dict,\n",
    "                                l1_coeff=l1_coeff,\n",
    "                                lr=lr,\n",
    "                                resample_epochs=RESAMPLE_EPOCHS,\n",
    "                                final_decay_start=FINAL_DECAY_START,\n",
    "                                final_decay_end=FINAL_DECAY_END,\n",
    "                            )\n",
    "                            if collect_metrics: \n",
    "                                metrics = storage.unwrap(metrics)\n",
    "\n",
    "                            ### compute the logitdiff recovered metric\n",
    "                            encoder = get_vanilla(d_activation=64, d_hidden=d_hidden, encoder_state_dict=encoder_state_dict)\n",
    "                            if collect_metrics:\n",
    "                                metrics_list.append(metrics)\n",
    "\n",
    "\n",
    "                            SAES_DICT[('vanilla', node, l1_coeff, end_epoch)] = encoder\n",
    "                            ### compute high F1-score features\n",
    "                            top_f1_features, top_f1_scores = get_high_f1_features(\n",
    "                                encoder=encoder,\n",
    "                                attributes=[('yy',),],\n",
    "                                A_normalized=A_eval_normalized,\n",
    "                                prompt_feature_idxs=P_eval_feature_idxs,\n",
    "                                topk=d_hidden,\n",
    "                            )\n",
    "\n",
    "                            ### interp-agnostic edits\n",
    "                            for attribute in [('yy',), ]:\n",
    "                                for num_exchange in (2, 4, 8, 16):\n",
    "                                    A_eval_cf = A_EVAL_CF_DICT[attribute][node]\n",
    "                                    A_eval_cf_normalized, _ = normalize_activations(A=A_eval_cf, scale=scale)\n",
    "                                    A_edited, best_features, best_scores, edited_clean, edited_cf = get_edit_using_sae_opt(\n",
    "                                        A_clean_normalized=A_eval_normalized,\n",
    "                                        A_cf_normalized=A_eval_cf_normalized,\n",
    "                                        encoder=encoder,\n",
    "                                        num_exchange=num_exchange,\n",
    "                                        batch_size=200,\n",
    "                                        normalization_scale=scale,\n",
    "                                    )\n",
    "                                    EDITED_AGNOSTIC_DICT[('vanilla', node, l1_coeff, end_epoch, attribute, num_exchange)] = A_edited\n",
    "\n",
    "                        if collect_metrics:\n",
    "                            all_metrics = [elt for x in metrics_list for elt in x]\n",
    "                            metrics_df = pd.DataFrame(all_metrics)\n",
    "                            metrics_df['l1_coeff'] = l1_coeff\n",
    "                            metrics_df['lr'] = lr\n",
    "                            metrics_df['dict_mult'] = dict_mult\n",
    "                            metrics_df['node'] = node.displayname\n",
    "                            metrics_df['batch_size'] = batch_size\n",
    "                            metrics_dfs.append(metrics_df)\n",
    "        storage.commit()\n",
    "        storage.atoms.clear()\n",
    "\n",
    "    if collect_metrics:\n",
    "        metrics_df_vanilla = pd.concat(metrics_dfs)\n"
   ]
  },
  {
   "cell_type": "code",
   "execution_count": 8,
   "metadata": {},
   "outputs": [
    {
     "name": "stderr",
     "output_type": "stream",
     "text": [
      "784it [00:06, 122.66it/s]\n"
     ]
    }
   ],
   "source": [
    "rows = []\n",
    "for i, ((variant, node, l1_coeff, end_epoch, attribute, num_exchange), A_edited) in tqdm(enumerate(EDITED_AGNOSTIC_DICT.items())):\n",
    "    x = storage.load_ref(hid=A_edited.hid, lazy=False).obj\n",
    "    dist_l2 = get_activation_distance.f(\n",
    "        A_target=storage.unwrap(A_EVAL_CF_DICT[attribute][node]),\n",
    "        A_edited=x,\n",
    "        A_target_grad=None,\n",
    "        method='l2',\n",
    "    )\n",
    "    rows.append({\n",
    "        'variant': variant,\n",
    "        'edit_type': 'agnostic',\n",
    "        'node': node,\n",
    "        'l1_coeff': l1_coeff,\n",
    "        'end_epoch': end_epoch,\n",
    "        'attribute': attribute,\n",
    "        'num_exchange': num_exchange,\n",
    "        'dist_method': 'l2',\n",
    "        'dist': dist_l2.item(),\n",
    "    })\n",
    "    if i % 1_000 == 0:\n",
    "        storage.atoms.clear()\n",
    "\n",
    "EDIT_SELECTION_DF = pd.DataFrame(rows)\n",
    "EDIT_SELECTION_DF['node'] = EDIT_SELECTION_DF['node'].map(lambda x: x.displayname)"
   ]
  },
  {
   "cell_type": "code",
   "execution_count": 9,
   "metadata": {},
   "outputs": [],
   "source": [
    "### collect the encoder with the best distance for each variant, node, attribute, num_exchange, dist_method by minimizing over l1_coeff and end_epoch\n",
    "x = EDIT_SELECTION_DF.groupby(['variant', 'edit_type', 'node', 'attribute', 'num_exchange', 'dist_method'])['dist'].idxmin()\n",
    "# x = EDIT_SELECTION_DF.groupby(['variant', 'edit_type', 'node', 'attribute', 'num_exchange', 'dist_method'])['dist'].min().reset_index()\n",
    "# now, choose the values of l1_coeff and end_epoch that minimize the distance\n",
    "EDIT_SELECTION_DF_BEST = EDIT_SELECTION_DF.loc[x]"
   ]
  },
  {
   "cell_type": "code",
   "execution_count": null,
   "metadata": {},
   "outputs": [],
   "source": [
    "EDIT_SELECTION_DF_BEST"
   ]
  },
  {
   "cell_type": "code",
   "execution_count": 10,
   "metadata": {},
   "outputs": [
    {
     "name": "stderr",
     "output_type": "stream",
     "text": [
      "28it [00:00, 120575.47it/s]\n",
      "28it [00:00, 120575.47it/s]\n"
     ]
    }
   ],
   "source": [
    "SELECTED_SAES = {} # (variant, edit_type, node, attribute, num_exchange, dist_method) -> encoder\n",
    "node_to_displayname = {node: node.displayname for node in NODES}\n",
    "displayname_to_node = {v: k for k, v in node_to_displayname.items()}\n",
    "for (variant, edit_type, node_name, l1_coeff, end_epoch, attribute, num_exchange, dist_method, _) in tqdm(EDIT_SELECTION_DF_BEST.itertuples(index=False)):\n",
    "    node = displayname_to_node[node_name]\n",
    "    SELECTED_SAES[(variant, edit_type, node, attribute, num_exchange, dist_method)] = (SAES_DICT[(variant, node, l1_coeff, end_epoch)], l1_coeff, end_epoch)"
   ]
  },
  {
   "cell_type": "code",
   "execution_count": 11,
   "metadata": {},
   "outputs": [],
   "source": [
    "EDITED_DICT = {}\n",
    "for k, v in EDITED_AGNOSTIC_DICT.items():\n",
    "    EDITED_DICT[k + ('agnostic',)] = v"
   ]
  },
  {
   "cell_type": "code",
   "execution_count": 15,
   "metadata": {},
   "outputs": [
    {
     "name": "stderr",
     "output_type": "stream",
     "text": [
      "100%|██████████| 100/100 [00:13<00:00,  7.51it/s]\n",
      "100%|██████████| 1/1 [00:14<00:00, 14.85s/it]\n"
     ]
    }
   ],
   "source": [
    "### the actual interventions\n",
    "paper_cross_sections = [\n",
    "    # yy\n",
    "    (NODES, ('yy',), 'nm+bnm@z'),\n",
    "]\n",
    "\n",
    "locations_to_edit = paper_cross_sections\n",
    "\n",
    "def get_lds(logits: Tensor) -> np.ndarray:\n",
    "    return (storage.unwrap(logits)[:, 0] - storage.unwrap(logits)[:, 1]).cpu().numpy()\n",
    "\n",
    "def stringify_nodes(nodes: List[Node]) -> str:\n",
    "    return ', '.join([node.displayname for node in nodes])\n",
    "\n",
    "dfs = []\n",
    "NUM_EXCHANGE_VALUES = [0, 2, 4, 8, 16]\n",
    "\n",
    "with storage:\n",
    "    for nodes_to_edit, feature_subset_to_edit, heads_class in tqdm(locations_to_edit):\n",
    "        cf_activations = {node: A_EVAL_CF_DICT[feature_subset_to_edit][node] for node in nodes_to_edit}\n",
    "        cf_prompts = CF_PROMPTS_DICT[feature_subset_to_edit]\n",
    "        nodes_order = sorted(nodes_to_edit, key=lambda node: node.displayname)\n",
    "        \n",
    "        # correct_predictions_base = model.to_tokens([f' {p.io_name}' for p in storage.unwrap(P_eval)])[:, 1]\n",
    "        # correct_predictions_cf = model.to_tokens([f' {p.io_name}' for p in storage.unwrap(cf_prompts)])[:, 1]\n",
    "\n",
    "        for num_exchange in NUM_EXCHANGE_VALUES:\n",
    "            for edit_type in ('agnostic', ):\n",
    "                for variant in ('vanilla',):\n",
    "                    for dist_method in ('l2',):\n",
    "                        if num_exchange != 0:\n",
    "                            best_encoder_data = {node: SELECTED_SAES[(variant, edit_type, node, feature_subset_to_edit, num_exchange, dist_method)] for node in nodes_to_edit}\n",
    "                            best_edited_activations = {node: EDITED_DICT[(variant, node, l1_coeff, end_epoch, feature_subset_to_edit, num_exchange, edit_type)]\n",
    "                                                for node, (encoder, l1_coeff, end_epoch) in best_encoder_data.items()}\n",
    "                        else:\n",
    "                            best_edited_activations = {node: A_EVAL_DICT[node] for node in nodes_to_edit}\n",
    "                        ### intervention outcome\n",
    "                        base_logits_edit, thing = run_activation_patch(\n",
    "                            base_prompts=P_eval,\n",
    "                            cf_prompts=cf_prompts,\n",
    "                            batch_size=50,\n",
    "                            nodes=nodes_order,\n",
    "                            activations=[best_edited_activations[node] for node in nodes_order],\n",
    "                            return_predictions=True,\n",
    "                        )\n",
    "                        cf_logits_edit, predictions_edit = storage.unwrap(thing)\n",
    "                        # accuracy_edit_base = (predictions_edit == correct_predictions_base).float().mean().item()\n",
    "                        # accuracy_edit_cf = (predictions_edit == correct_predictions_cf).float().mean().item()\n",
    "                        # base_logits_edit, cf_logits_edit = storage.unwrap(base_logits_edit), storage.unwrap(cf_logits_edit)\n",
    "\n",
    "                        ### baseline (counterfactual patching) outcome\n",
    "                        base_logits_patch, thing = run_activation_patch(\n",
    "                            base_prompts=P_eval,\n",
    "                            cf_prompts=cf_prompts,\n",
    "                            batch_size=50,\n",
    "                            nodes=nodes_order,\n",
    "                            activations=[cf_activations[node] for node in nodes_order],\n",
    "                            return_predictions=True,\n",
    "                        )\n",
    "                        cf_logits_patch, predictions_patch = storage.unwrap(thing)\n",
    "                        # accuracy_patch_base = (predictions_patch == correct_predictions_base).float().mean().item()\n",
    "                        # accuracy_patch_cf = (predictions_patch == correct_predictions_cf).float().mean().item()\n",
    "\n",
    "                        # base_logits_patch, cf_logits_patch = storage.unwrap(base_logits_patch), storage.unwrap(cf_logits_patch)\n",
    "                        # base_lds_edit = get_lds(base_logits_edit)\n",
    "                        # cf_lds_edit = get_lds(cf_logits_edit)\n",
    "                        # base_lds_patch = get_lds(base_logits_patch)\n",
    "                        # cf_lds_patch = get_lds(cf_logits_patch)\n",
    "\n",
    "                        df = pd.DataFrame({\n",
    "                            # params\n",
    "                            'num_exchange': num_exchange,\n",
    "                            'nodes_to_edit': stringify_nodes(nodes_to_edit),\n",
    "                            'heads_class': heads_class,\n",
    "                            'attribute': [feature_subset_to_edit[0] for _ in range(len(storage.unwrap(predictions_edit)))],\n",
    "                            'edit_type': edit_type,\n",
    "                            'prompt_idx': list(range(len(storage.unwrap(predictions_edit)))),\n",
    "                            'variant': variant,\n",
    "                            'dist_method': dist_method,\n",
    "                            # agreement between cf predictions and edit predictions\n",
    "                            'agreement_with_cf': (predictions_edit == predictions_patch).cpu().numpy(),\n",
    "                            # 'removed_weight': torch.cat(removed_weights).cpu().numpy(),\n",
    "                            # 'baseline_removed_weight': torch.cat(baseline_removed_weights).cpu().numpy(),\n",
    "                            # weight removed\n",
    "                            # 'weight_removed_fraction': np.mean(removed_weights),\n",
    "                        })\n",
    "                        dfs.append(df)\n",
    "                        storage.commit()\n",
    "                        storage.atoms.clear()\n",
    "                        torch.cuda.empty_cache()\n",
    "df = pd.concat(dfs)"
   ]
  },
  {
   "cell_type": "code",
   "execution_count": 26,
   "metadata": {},
   "outputs": [],
   "source": [
    "x = df.groupby(['num_exchange',])['agreement_with_cf'].mean().reset_index()"
   ]
  },
  {
   "cell_type": "code",
   "execution_count": 29,
   "metadata": {},
   "outputs": [
    {
     "data": {
      "text/plain": [
       "Text(0, 0.5, 'Edit accuracy')"
      ]
     },
     "execution_count": 29,
     "metadata": {},
     "output_type": "execute_result"
    },
    {
     "data": {
      "image/png": "[encoded data removed]",
      "text/plain": [
       "<Figure size 640x480 with 1 Axes>"
      ]
     },
     "metadata": {},
     "output_type": "display_data"
    }
   ],
   "source": [
    "alt.Chart(x).mark_bar().encode(\n",
    "    x='num_exchange:O',\n",
    "    y='agreement_with_cf',\n",
    ")\n",
    "\n",
    "# same plot in seaborn\n",
    "fig, ax = plt.subplots()\n",
    "sns.barplot(x='num_exchange', y='agreement_with_cf', data=df, ax=ax)\n",
    "# rename the x and y axes\n",
    "ax.set_xlabel('Number of features exchanged')\n",
    "ax.set_ylabel('Edit accuracy')"
   ]
  },
  {
   "cell_type": "code",
   "execution_count": null,
   "metadata": {},
   "outputs": [],
   "source": []
  }
 ],
 "metadata": {
  "language_info": {
   "name": "python"
  }
 },
 "nbformat": 4,
 "nbformat_minor": 2
}
