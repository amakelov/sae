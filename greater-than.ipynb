{
 "cells": [
  {
   "cell_type": "code",
   "execution_count": 1,
   "metadata": {},
   "outputs": [],
   "source": [
    "from ioi_utils import *\n",
    "from sae_variants import *\n",
    "from training import *\n",
    "from mandala._next.imports import *\n",
    "from mandala._next.common_imports import *"
   ]
  },
  {
   "cell_type": "code",
   "execution_count": 2,
   "metadata": {},
   "outputs": [
    {
     "name": "stderr",
     "output_type": "stream",
     "text": [
      "/home/amakelov/workspace/current/conda_envs/serimats/lib/python3.10/site-packages/huggingface_hub/file_download.py:1132: FutureWarning: `resume_download` is deprecated and will be removed in version 1.0.0. Downloads always resume when possible. If you want to force a new download, use `force_download=True`.\n",
      "  warnings.warn(\n"
     ]
    },
    {
     "name": "stdout",
     "output_type": "stream",
     "text": [
      "Loaded pretrained model gpt2-small into HookedTransformer\n"
     ]
    }
   ],
   "source": [
    "model = get_model()"
   ]
  },
  {
   "cell_type": "code",
   "execution_count": 8,
   "metadata": {},
   "outputs": [
    {
     "data": {
      "text/plain": [
       "torch.Size([50257, 768])"
      ]
     },
     "execution_count": 8,
     "metadata": {},
     "output_type": "execute_result"
    }
   ],
   "source": [
    "model.W_E.shape"
   ]
  },
  {
   "cell_type": "code",
   "execution_count": 9,
   "metadata": {},
   "outputs": [],
   "source": [
    "vocab = model.to_str_tokens(input=torch.arange(50257).long())"
   ]
  },
  {
   "cell_type": "code",
   "execution_count": 15,
   "metadata": {},
   "outputs": [],
   "source": [
    "doubledigit_indices = {}\n",
    "def is_int(x: str): return x.isdigit()\n",
    "for i, elt in enumerate(vocab):\n",
    "    if len(elt) == 2 and elt[0].isdigit() and elt[1].isdigit():\n",
    "        doubledigit_indices[elt] = i"
   ]
  },
  {
   "cell_type": "code",
   "execution_count": 16,
   "metadata": {},
   "outputs": [
    {
     "data": {
      "text/plain": [
       "{'00': 405,\n",
       " '01': 486,\n",
       " '10': 940,\n",
       " '12': 1065,\n",
       " '50': 1120,\n",
       " '19': 1129,\n",
       " '11': 1157,\n",
       " '20': 1238,\n",
       " '30': 1270,\n",
       " '15': 1314,\n",
       " '14': 1415,\n",
       " '16': 1433,\n",
       " '13': 1485,\n",
       " '25': 1495,\n",
       " '18': 1507,\n",
       " '17': 1558,\n",
       " '24': 1731,\n",
       " '80': 1795,\n",
       " '40': 1821,\n",
       " '22': 1828,\n",
       " '60': 1899,\n",
       " '23': 1954,\n",
       " '29': 1959,\n",
       " '27': 1983,\n",
       " '26': 2075,\n",
       " '28': 2078,\n",
       " '99': 2079,\n",
       " '33': 2091,\n",
       " '70': 2154,\n",
       " '45': 2231,\n",
       " '35': 2327,\n",
       " '64': 2414,\n",
       " '75': 2425,\n",
       " '21': 2481,\n",
       " '38': 2548,\n",
       " '44': 2598,\n",
       " '36': 2623,\n",
       " '32': 2624,\n",
       " '39': 2670,\n",
       " '34': 2682,\n",
       " '05': 2713,\n",
       " '37': 2718,\n",
       " '48': 2780,\n",
       " '66': 2791,\n",
       " '55': 2816,\n",
       " '47': 2857,\n",
       " '08': 2919,\n",
       " '49': 2920,\n",
       " '09': 2931,\n",
       " '65': 2996,\n",
       " '07': 2998,\n",
       " '02': 2999,\n",
       " '04': 3023,\n",
       " '03': 3070,\n",
       " '68': 3104,\n",
       " '31': 3132,\n",
       " '67': 3134,\n",
       " '59': 3270,\n",
       " '06': 3312,\n",
       " '77': 3324,\n",
       " '58': 3365,\n",
       " '69': 3388,\n",
       " '88': 3459,\n",
       " '46': 3510,\n",
       " '57': 3553,\n",
       " '43': 3559,\n",
       " '42': 3682,\n",
       " '78': 3695,\n",
       " '79': 3720,\n",
       " '90': 3829,\n",
       " '95': 3865,\n",
       " '41': 3901,\n",
       " '56': 3980,\n",
       " '54': 4051,\n",
       " '98': 4089,\n",
       " '76': 4304,\n",
       " '52': 4309,\n",
       " '53': 4310,\n",
       " '51': 4349,\n",
       " '86': 4521,\n",
       " '74': 4524,\n",
       " '89': 4531,\n",
       " '72': 4761,\n",
       " '73': 4790,\n",
       " '96': 4846,\n",
       " '71': 4869,\n",
       " '63': 5066,\n",
       " '62': 5237,\n",
       " '85': 5332,\n",
       " '61': 5333,\n",
       " '97': 5607,\n",
       " '84': 5705,\n",
       " '87': 5774,\n",
       " '94': 5824,\n",
       " '92': 5892,\n",
       " '83': 5999,\n",
       " '93': 6052,\n",
       " '91': 6420,\n",
       " '82': 6469,\n",
       " '81': 6659}"
      ]
     },
     "execution_count": 16,
     "metadata": {},
     "output_type": "execute_result"
    }
   ],
   "source": [
    "doubledigit_indices"
   ]
  },
  {
   "cell_type": "code",
   "execution_count": 18,
   "metadata": {},
   "outputs": [
    {
     "data": {
      "text/plain": [
       "tensor(0.4514, device='cuda:0')"
      ]
     },
     "execution_count": 18,
     "metadata": {},
     "output_type": "execute_result"
    }
   ],
   "source": [
    "torch.cosine_similarity(model.W_E[doubledigit_indices['10']], model.W_E[doubledigit_indices['47']], dim=0)"
   ]
  },
  {
   "cell_type": "code",
   "execution_count": null,
   "metadata": {},
   "outputs": [],
   "source": []
  }
 ],
 "metadata": {
  "language_info": {
   "name": "python"
  }
 },
 "nbformat": 4,
 "nbformat_minor": 2
}
