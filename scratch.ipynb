{
 "cells": [
  {
   "cell_type": "code",
   "execution_count": 8,
   "metadata": {},
   "outputs": [],
   "source": [
    "from ioi_utils import *\n",
    "from sae_variants import *\n",
    "from training import *\n",
    "from mandala._next.imports import *\n",
    "from mandala._next.common_imports import *\n",
    "from circuit_utils import *"
   ]
  },
  {
   "cell_type": "code",
   "execution_count": 3,
   "metadata": {},
   "outputs": [],
   "source": [
    "DB_PATH = '/media/amakelov/SanDisk1TB/paper_sprint/test.db'"
   ]
  },
  {
   "cell_type": "code",
   "execution_count": 4,
   "metadata": {},
   "outputs": [],
   "source": [
    "storage = Storage(db_path=DB_PATH)"
   ]
  },
  {
   "cell_type": "code",
   "execution_count": 9,
   "metadata": {},
   "outputs": [
    {
     "name": "stderr",
     "output_type": "stream",
     "text": [
      "100%|██████████| 3537/3537 [00:06<00:00, 555.34it/s]\n"
     ]
    },
    {
     "name": "stdout",
     "output_type": "stream",
     "text": [
      "ComputationFrame with 8 variable(s) (7191 references to values), 1 operation(s) (3537 references to calls)\n",
      "Computational graph:\n"
     ]
    },
    {
     "data": {
      "text/html": [
       "<pre style=\"white-space:pre;overflow-x:auto;line-height:normal;font-family:Menlo,'DejaVu Sans Mono',consolas,'Courier New',monospace\">╭─────────────────────────────────────────────────────────────────────────────────────────────────────────────────╮\n",
       "│ <span style=\"color: #657b83; text-decoration-color: #657b83; background-color: #fdf6e3\">output_0 </span><span style=\"color: #93a1a1; text-decoration-color: #93a1a1; background-color: #fdf6e3\">=</span><span style=\"color: #657b83; text-decoration-color: #657b83; background-color: #fdf6e3\"> get_logitdiff_loss(batch_size</span><span style=\"color: #93a1a1; text-decoration-color: #93a1a1; background-color: #fdf6e3\">=</span><span style=\"color: #657b83; text-decoration-color: #657b83; background-color: #fdf6e3\">batch_size, encoder</span><span style=\"color: #93a1a1; text-decoration-color: #93a1a1; background-color: #fdf6e3\">=</span><span style=\"color: #657b83; text-decoration-color: #657b83; background-color: #fdf6e3\">encoder, node</span><span style=\"color: #93a1a1; text-decoration-color: #93a1a1; background-color: #fdf6e3\">=</span><span style=\"color: #657b83; text-decoration-color: #657b83; background-color: #fdf6e3\">node, clean_ld</span><span style=\"color: #93a1a1; text-decoration-color: #93a1a1; background-color: #fdf6e3\">=</span><span style=\"color: #657b83; text-decoration-color: #657b83; background-color: #fdf6e3\">clean_ld, prompts</span><span style=\"color: #93a1a1; text-decoration-color: #93a1a1; background-color: #fdf6e3\">=</span><span style=\"color: #657b83; text-decoration-color: #657b83; background-color: #fdf6e3\">pro</span> │\n",
       "╰─────────────────────────────────────────────────────────────────────────────────────────────────────────────────╯\n",
       "</pre>\n"
      ],
      "text/plain": [
       "╭─────────────────────────────────────────────────────────────────────────────────────────────────────────────────╮\n",
       "│ \u001b[38;2;101;123;131;48;2;253;246;227moutput_0\u001b[0m\u001b[38;2;101;123;131;48;2;253;246;227m \u001b[0m\u001b[38;2;147;161;161;48;2;253;246;227m=\u001b[0m\u001b[38;2;101;123;131;48;2;253;246;227m \u001b[0m\u001b[38;2;101;123;131;48;2;253;246;227mget_logitdiff_loss\u001b[0m\u001b[38;2;101;123;131;48;2;253;246;227m(\u001b[0m\u001b[38;2;101;123;131;48;2;253;246;227mbatch_size\u001b[0m\u001b[38;2;147;161;161;48;2;253;246;227m=\u001b[0m\u001b[38;2;101;123;131;48;2;253;246;227mbatch_size\u001b[0m\u001b[38;2;101;123;131;48;2;253;246;227m,\u001b[0m\u001b[38;2;101;123;131;48;2;253;246;227m \u001b[0m\u001b[38;2;101;123;131;48;2;253;246;227mencoder\u001b[0m\u001b[38;2;147;161;161;48;2;253;246;227m=\u001b[0m\u001b[38;2;101;123;131;48;2;253;246;227mencoder\u001b[0m\u001b[38;2;101;123;131;48;2;253;246;227m,\u001b[0m\u001b[38;2;101;123;131;48;2;253;246;227m \u001b[0m\u001b[38;2;101;123;131;48;2;253;246;227mnode\u001b[0m\u001b[38;2;147;161;161;48;2;253;246;227m=\u001b[0m\u001b[38;2;101;123;131;48;2;253;246;227mnode\u001b[0m\u001b[38;2;101;123;131;48;2;253;246;227m,\u001b[0m\u001b[38;2;101;123;131;48;2;253;246;227m \u001b[0m\u001b[38;2;101;123;131;48;2;253;246;227mclean_ld\u001b[0m\u001b[38;2;147;161;161;48;2;253;246;227m=\u001b[0m\u001b[38;2;101;123;131;48;2;253;246;227mclean_ld\u001b[0m\u001b[38;2;101;123;131;48;2;253;246;227m,\u001b[0m\u001b[38;2;101;123;131;48;2;253;246;227m \u001b[0m\u001b[38;2;101;123;131;48;2;253;246;227mprompts\u001b[0m\u001b[38;2;147;161;161;48;2;253;246;227m=\u001b[0m\u001b[38;2;101;123;131;48;2;253;246;227mpro\u001b[0m │\n",
       "╰─────────────────────────────────────────────────────────────────────────────────────────────────────────────────╯\n"
      ]
     },
     "metadata": {},
     "output_type": "display_data"
    },
    {
     "name": "stdout",
     "output_type": "stream",
     "text": [
      "Variables:\n",
      "    +-----------------------------+------------+\n",
      "    |             name            | num_values |\n",
      "    +-----------------------------+------------+\n",
      "    |          batch_size         |     1      |\n",
      "    |           encoder           |    3537    |\n",
      "    |             node            |     38     |\n",
      "    |           clean_ld          |     1      |\n",
      "    |           prompts           |     1      |\n",
      "    | encoder_normalization_scale |     38     |\n",
      "    |       mean_ablated_ld       |     38     |\n",
      "    |           output_0          |    3537    |\n",
      "    +-----------------------------+------------+\n",
      "Operations:\n",
      "    +--------------------+-----------+\n",
      "    |        name        | num_calls |\n",
      "    +--------------------+-----------+\n",
      "    | get_logitdiff_loss |    3537   |\n",
      "    +--------------------+-----------+\n"
     ]
    }
   ],
   "source": [
    "storage.preload()\n",
    "cf = storage.cf(get_logitdiff_loss)\n",
    "cf.info()"
   ]
  },
  {
   "cell_type": "code",
   "execution_count": 15,
   "metadata": {},
   "outputs": [],
   "source": [
    "cf = storage.cf(train_attribution)"
   ]
  },
  {
   "cell_type": "code",
   "execution_count": 17,
   "metadata": {},
   "outputs": [
    {
     "data": {
      "text/plain": [
       "3300"
      ]
     },
     "execution_count": 17,
     "metadata": {},
     "output_type": "execute_result"
    }
   ],
   "source": [
    "4 * 15 * 55"
   ]
  },
  {
   "cell_type": "code",
   "execution_count": 12,
   "metadata": {},
   "outputs": [
    {
     "name": "stderr",
     "output_type": "stream",
     "text": [
      "100%|██████████| 3537/3537 [00:05<00:00, 592.93it/s]\n"
     ]
    }
   ],
   "source": [
    "cf = cf.expand_back(varnames=['encoder'])"
   ]
  },
  {
   "cell_type": "code",
   "execution_count": 14,
   "metadata": {},
   "outputs": [
    {
     "data": {
      "text/plain": [
       "ComputationFrame with 0 variable(s) (0 unique refs), 1 operation(s) (2081 unique calls)\n",
       "Computational graph:\n",
       "     = get_vanilla()\n",
       "Use `.info()` to get more information about the CF, or `.info(*variable_name)`\n",
       "and `.info(*operation_name)` to get information about specific\n",
       "variable(s)/operation(s)"
      ]
     },
     "execution_count": 14,
     "metadata": {},
     "output_type": "execute_result"
    }
   ],
   "source": [
    "cf['get_vanilla']"
   ]
  },
  {
   "cell_type": "code",
   "execution_count": null,
   "metadata": {},
   "outputs": [],
   "source": [
    "model = get_model()\n",
    "model.requires_grad_()\n",
    "MODELS['gpt2small'] = model"
   ]
  },
  {
   "cell_type": "code",
   "execution_count": null,
   "metadata": {},
   "outputs": [],
   "source": [
    "num_floats = 20_000 * 12 * 64 * 19\n",
    "total_tensor_size_in_mb = num_floats * 4 / 1024 / 1024\n",
    "print(f'Total tensor size: {total_tensor_size_in_mb:.2f} MB')"
   ]
  },
  {
   "cell_type": "code",
   "execution_count": null,
   "metadata": {},
   "outputs": [],
   "source": [
    "P_train = generate_prompts(\n",
    "    distribution=full_distribution,\n",
    "    patterns=['ABB', 'BAB'],\n",
    "    prompts_per_pattern=10,\n",
    "    random_seed=0,\n",
    ")"
   ]
  },
  {
   "cell_type": "code",
   "execution_count": null,
   "metadata": {},
   "outputs": [],
   "source": [
    "activations = {}\n",
    "grads = {}\n",
    "\n",
    "def forward_hook(name):\n",
    "    def hook(model, input, output):\n",
    "        activations[name] = output\n",
    "        output.retain_grad()  # Retain gradient for the output\n",
    "    return hook\n",
    "\n",
    "def backward_hook(name):\n",
    "    def hook(grad):\n",
    "        grads[name] = grad\n",
    "    return hook\n",
    "\n",
    "\n",
    "# Register the forward hook\n",
    "forward_hook_handle = model.blocks[9].attn.hook_z.register_forward_hook(forward_hook('attn_z'))\n",
    "\n",
    "# Forward pass\n",
    "input_tensor = prompt_dataset.tokens\n",
    "output = model(input_tensor)[:, -1, :]"
   ]
  },
  {
   "cell_type": "code",
   "execution_count": null,
   "metadata": {},
   "outputs": [],
   "source": [
    "answer_logits = torch.gather(output, dim=1, index=prompt_dataset.answer_tokens.cuda())\n",
    "ld = answer_logits[:, 0] - answer_logits[:, 1]"
   ]
  },
  {
   "cell_type": "code",
   "execution_count": null,
   "metadata": {},
   "outputs": [],
   "source": [
    "ld"
   ]
  },
  {
   "cell_type": "code",
   "execution_count": null,
   "metadata": {},
   "outputs": [],
   "source": [
    "# Register the backward hook on the captured activation\n",
    "activation = activations['attn_z']\n",
    "backward_hook_handle = activation.register_hook(backward_hook('attn_z'))\n",
    "\n",
    "individual_gradients = []\n",
    "for i in tqdm(range(20)): # iterate over the batch\n",
    "    # Backward pass\n",
    "    model.zero_grad()\n",
    "    ld[i].backward(retain_graph=True)\n",
    "    # The gradient of the loss with respect to the internal activation\n",
    "    internal_activation_grad = grads['attn_z'][i, :, :, :].detach().clone()\n",
    "    individual_gradients.append(internal_activation_grad)\n",
    "\n",
    "# Remove the hooks when done\n",
    "forward_hook_handle.remove()\n",
    "backward_hook_handle.remove()\n",
    "\n",
    "\n",
    "gradients = torch.stack(individual_gradients, dim=0)"
   ]
  },
  {
   "cell_type": "code",
   "execution_count": null,
   "metadata": {},
   "outputs": [],
   "source": [
    "(3 / 20) * 5000"
   ]
  },
  {
   "cell_type": "code",
   "execution_count": null,
   "metadata": {},
   "outputs": [],
   "source": [
    "\n"
   ]
  },
  {
   "cell_type": "code",
   "execution_count": null,
   "metadata": {},
   "outputs": [],
   "source": [
    "g = collect_gradients(P_train, 9, 'z')"
   ]
  },
  {
   "cell_type": "code",
   "execution_count": null,
   "metadata": {},
   "outputs": [],
   "source": []
  }
 ],
 "metadata": {
  "language_info": {
   "name": "python"
  }
 },
 "nbformat": 4,
 "nbformat_minor": 2
}
